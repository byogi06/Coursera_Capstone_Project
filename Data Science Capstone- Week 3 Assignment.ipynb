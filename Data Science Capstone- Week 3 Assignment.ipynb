{
    "nbformat_minor": 1, 
    "cells": [
        {
            "source": "####  In this Notebook we are going to scrape the data from wikepedia page\n\nLets first install required libraraies", 
            "cell_type": "markdown", 
            "metadata": {
                "collapsed": true
            }
        }, 
        {
            "execution_count": 6, 
            "cell_type": "code", 
            "metadata": {}, 
            "outputs": [
                {
                    "output_type": "stream", 
                    "name": "stdout", 
                    "text": "Fetching package metadata .............\nSolving package specifications: .\n\nPackage plan for installation in environment /opt/conda/envs/DSX-Python35:\n\nThe following packages will be UPDATED:\n\n    libxml2: 2.9.4-h6b072ca_5     --> 2.9.8-h422b904_2     conda-forge\n    libxslt: 1.1.29-hcf9102b_5    --> 1.1.32-h88dbc4e_2    conda-forge\n    lxml:    4.1.0-py35ha401a81_0 --> 4.2.5-py35hc9114bc_0 conda-forge\n\nlibxml2-2.9.8- 100% |################################| Time: 0:00:00   8.54 MB/s\nlibxslt-1.1.32 100% |################################| Time: 0:00:00  62.90 MB/s\nlxml-4.2.5-py3 100% |################################| Time: 0:00:00  27.53 MB/s\n"
                }
            ], 
            "source": "!conda install -c conda-forge beautifulsoup4 --yes\n!conda install -c conda-forge lxml --yes"
        }, 
        {
            "source": "##### Lets import the BeautifulSoup ,requests and pandas library", 
            "cell_type": "markdown", 
            "metadata": {}
        }, 
        {
            "execution_count": null, 
            "cell_type": "code", 
            "metadata": {}, 
            "outputs": [], 
            "source": "from bs4 import BeautifulSoup \nimport requests\nimport pandas as pd\n"
        }, 
        {
            "source": "Lets use the requests object to read the wikipedia page.\nPass the requests object to BeautifulSoup method (lxml parsing is used to parse the html page) which will retunr the soup object.\nUsing find_all method we can find the table. Use pandas read_html method to convert html table to list and then data frame.", 
            "cell_type": "markdown", 
            "metadata": {}
        }, 
        {
            "execution_count": 41, 
            "cell_type": "code", 
            "metadata": {}, 
            "outputs": [], 
            "source": "res= requests.get('https://en.wikipedia.org/wiki/List_of_postal_codes_of_Canada:_M')\nsoup = BeautifulSoup(res.content,'lxml')\ntable = soup.find_all('table')[0] \ndf_list = pd.read_html(str(table))\ndf=pd.DataFrame({'Postcode':df_list[0][0],'Borough':df_list[0][1],'Neighborhood':df_list[0][2]})\ndf=df.drop([0],axis=0).reset_index(drop=True)"
        }, 
        {
            "source": "Remove the rows where column value of Borough is 'Not assigned'", 
            "cell_type": "markdown", 
            "metadata": {}
        }, 
        {
            "execution_count": 42, 
            "cell_type": "code", 
            "metadata": {}, 
            "outputs": [
                {
                    "execution_count": 42, 
                    "metadata": {}, 
                    "data": {
                        "text/html": "<div>\n<style scoped>\n    .dataframe tbody tr th:only-of-type {\n        vertical-align: middle;\n    }\n\n    .dataframe tbody tr th {\n        vertical-align: top;\n    }\n\n    .dataframe thead th {\n        text-align: right;\n    }\n</style>\n<table border=\"1\" class=\"dataframe\">\n  <thead>\n    <tr style=\"text-align: right;\">\n      <th></th>\n      <th>Borough</th>\n      <th>Neighborhood</th>\n      <th>Postcode</th>\n    </tr>\n  </thead>\n  <tbody>\n    <tr>\n      <th>0</th>\n      <td>North York</td>\n      <td>Parkwoods</td>\n      <td>M3A</td>\n    </tr>\n    <tr>\n      <th>1</th>\n      <td>North York</td>\n      <td>Victoria Village</td>\n      <td>M4A</td>\n    </tr>\n    <tr>\n      <th>2</th>\n      <td>Downtown Toronto</td>\n      <td>Harbourfront</td>\n      <td>M5A</td>\n    </tr>\n    <tr>\n      <th>3</th>\n      <td>Downtown Toronto</td>\n      <td>Regent Park</td>\n      <td>M5A</td>\n    </tr>\n    <tr>\n      <th>4</th>\n      <td>North York</td>\n      <td>Lawrence Heights</td>\n      <td>M6A</td>\n    </tr>\n  </tbody>\n</table>\n</div>", 
                        "text/plain": "            Borough      Neighborhood Postcode\n0        North York         Parkwoods      M3A\n1        North York  Victoria Village      M4A\n2  Downtown Toronto      Harbourfront      M5A\n3  Downtown Toronto       Regent Park      M5A\n4        North York  Lawrence Heights      M6A"
                    }, 
                    "output_type": "execute_result"
                }
            ], 
            "source": "df=df[df.Borough != 'Not assigned'].reset_index(drop=True)\ndf.head()"
        }, 
        {
            "source": "1. Groupby the values based on 'Postcode' and 'Borough' and Concat the values of 'Neighborhood' in single row\n2. Also Assign the value of'Borough' where 'Neighborhood' value is 'Not assigned'", 
            "cell_type": "markdown", 
            "metadata": {}
        }, 
        {
            "execution_count": 44, 
            "cell_type": "code", 
            "metadata": {}, 
            "outputs": [], 
            "source": "df1=df.groupby(['Postcode','Borough'])['Neighborhood'].apply(','.join)\ndf1=pd.DataFrame(df1).reset_index(drop=False)\nfor index,row in df1.iterrows():\n   if row['Neighborhood']== 'Not assigned' :\n     row['Neighborhood'] = row['Borough']"
        }, 
        {
            "execution_count": 45, 
            "cell_type": "code", 
            "metadata": {
                "scrolled": true
            }, 
            "outputs": [
                {
                    "execution_count": 45, 
                    "metadata": {}, 
                    "data": {
                        "text/plain": "103"
                    }, 
                    "output_type": "execute_result"
                }
            ], 
            "source": "df1.shape[0]"
        }, 
        {
            "execution_count": null, 
            "cell_type": "code", 
            "metadata": {}, 
            "outputs": [], 
            "source": ""
        }
    ], 
    "metadata": {
        "kernelspec": {
            "display_name": "Python 3.5", 
            "name": "python3", 
            "language": "python"
        }, 
        "language_info": {
            "mimetype": "text/x-python", 
            "nbconvert_exporter": "python", 
            "version": "3.5.5", 
            "name": "python", 
            "file_extension": ".py", 
            "pygments_lexer": "ipython3", 
            "codemirror_mode": {
                "version": 3, 
                "name": "ipython"
            }
        }
    }, 
    "nbformat": 4
}